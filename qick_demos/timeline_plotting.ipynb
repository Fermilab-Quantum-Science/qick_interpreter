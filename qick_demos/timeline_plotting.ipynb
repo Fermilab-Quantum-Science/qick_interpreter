{
 "cells": [
  {
   "cell_type": "code",
   "execution_count": 1,
   "metadata": {},
   "outputs": [],
   "source": [
    "import pandas as pd\n",
    "from pandas.plotting import table\n",
    "import matplotlib.pyplot as plt\n",
    "from matplotlib.widgets import RangeSlider\n",
    "%matplotlib widget\n",
    "#import plotly.graph_objects as go\n",
    "#import plotly.express as px\n",
    "import numpy as np\n",
    "from ast import literal_eval"
   ]
  },
  {
   "cell_type": "code",
   "execution_count": 2,
   "metadata": {},
   "outputs": [],
   "source": [
    "log = pd.read_csv('00_dataframe.csv',index_col=0)"
   ]
  },
  {
   "cell_type": "code",
   "execution_count": 3,
   "metadata": {},
   "outputs": [
    {
     "data": {
      "text/html": [
       "<div>\n",
       "<style scoped>\n",
       "    .dataframe tbody tr th:only-of-type {\n",
       "        vertical-align: middle;\n",
       "    }\n",
       "\n",
       "    .dataframe tbody tr th {\n",
       "        vertical-align: top;\n",
       "    }\n",
       "\n",
       "    .dataframe thead th {\n",
       "        text-align: right;\n",
       "    }\n",
       "</style>\n",
       "<table border=\"1\" class=\"dataframe\">\n",
       "  <thead>\n",
       "    <tr style=\"text-align: right;\">\n",
       "      <th></th>\n",
       "      <th>Time</th>\n",
       "      <th>Instruction</th>\n",
       "      <th>Output Channel</th>\n",
       "      <th>Page</th>\n",
       "      <th>Channel No</th>\n",
       "    </tr>\n",
       "  </thead>\n",
       "  <tbody>\n",
       "    <tr>\n",
       "      <th>0</th>\n",
       "      <td>2</td>\n",
       "      <td>regwi</td>\n",
       "      <td>[[0.0], [], [], [], [], [], [], [69905067.0, 0...</td>\n",
       "      <td>3</td>\n",
       "      <td>-1</td>\n",
       "    </tr>\n",
       "    <tr>\n",
       "      <th>1</th>\n",
       "      <td>4</td>\n",
       "      <td>regwi</td>\n",
       "      <td>[[0.0], [], [], [], [], [], [], [69905067.0, 0...</td>\n",
       "      <td>3</td>\n",
       "      <td>-1</td>\n",
       "    </tr>\n",
       "    <tr>\n",
       "      <th>2</th>\n",
       "      <td>6</td>\n",
       "      <td>regwi</td>\n",
       "      <td>[[0.0], [], [], [], [], [], [], [69905067.0, 0...</td>\n",
       "      <td>3</td>\n",
       "      <td>-1</td>\n",
       "    </tr>\n",
       "    <tr>\n",
       "      <th>3</th>\n",
       "      <td>8</td>\n",
       "      <td>regwi</td>\n",
       "      <td>[[0.0], [], [], [], [], [], [], [69905067.0, 0...</td>\n",
       "      <td>3</td>\n",
       "      <td>-1</td>\n",
       "    </tr>\n",
       "    <tr>\n",
       "      <th>4</th>\n",
       "      <td>10</td>\n",
       "      <td>synci</td>\n",
       "      <td>[[0.0], [], [], [], [], [], [], [69905067.0, 0...</td>\n",
       "      <td>0</td>\n",
       "      <td>-1</td>\n",
       "    </tr>\n",
       "  </tbody>\n",
       "</table>\n",
       "</div>"
      ],
      "text/plain": [
       "   Time Instruction                                     Output Channel  Page  \\\n",
       "0     2       regwi  [[0.0], [], [], [], [], [], [], [69905067.0, 0...     3   \n",
       "1     4       regwi  [[0.0], [], [], [], [], [], [], [69905067.0, 0...     3   \n",
       "2     6       regwi  [[0.0], [], [], [], [], [], [], [69905067.0, 0...     3   \n",
       "3     8       regwi  [[0.0], [], [], [], [], [], [], [69905067.0, 0...     3   \n",
       "4    10       synci  [[0.0], [], [], [], [], [], [], [69905067.0, 0...     0   \n",
       "\n",
       "   Channel No  \n",
       "0          -1  \n",
       "1          -1  \n",
       "2          -1  \n",
       "3          -1  \n",
       "4          -1  "
      ]
     },
     "execution_count": 3,
     "metadata": {},
     "output_type": "execute_result"
    }
   ],
   "source": [
    "log.head()"
   ]
  },
  {
   "cell_type": "code",
   "execution_count": 4,
   "metadata": {},
   "outputs": [
    {
     "data": {
      "text/plain": [
       "[[0.0], [], [], [], [], [], [], [69905067.0, 0.0, 0.0, 3000.0, 589844.0]]"
      ]
     },
     "execution_count": 4,
     "metadata": {},
     "output_type": "execute_result"
    }
   ],
   "source": [
    "literal_eval(log[\"Output Channel\"][1])"
   ]
  },
  {
   "cell_type": "code",
   "execution_count": 81,
   "metadata": {},
   "outputs": [],
   "source": [
    "Times = np.array(log['Time'])\n",
    "Output_channel = np.array(log['Output Channel'])\n",
    "Instructions = np.array(log['Instruction'])\n",
    "Page = np.array(log['Page'])\n",
    "Channels = np.array(log['Channel No'])\n",
    "levels = []\n",
    "lengths = []\n",
    "addr = []\n",
    "for i,output in enumerate(Output_channel):\n",
    "    Output_channel[i] = literal_eval(output)\n",
    "for i,channel in enumerate(Channels):\n",
    "    if channel != -1:\n",
    "        levels.append(channel+12)\n",
    "        if len(Output_channel[i][channel]) == 5:\n",
    "            #for j in range(16):\n",
    "            #print((int(Output_channel[i][channel][4])>>0)&0b1111111111111111)\n",
    "            #print(int(Output_channel[i][channel][2]))\n",
    "            lengths.append((int(Output_channel[i][channel][4])>>0)&0b1111111111111111)\n",
    "            addr.append(int(Output_channel[i][channel][2]))\n",
    "        else:\n",
    "            lengths.append(0)\n",
    "            addr.append(-1)\n",
    "            #print(max(Output_channel[i][channel])&0b1111111111111111)\n",
    "    else:\n",
    "        lengths.append(0)\n",
    "        levels.append(Page[i])\n",
    "        addr.append(-1)\n",
    "    #else:\n",
    "        #levels.append(channel+12)"
   ]
  },
  {
   "cell_type": "code",
   "execution_count": 82,
   "metadata": {},
   "outputs": [
    {
     "data": {
      "text/plain": [
       "(22, 22)"
      ]
     },
     "execution_count": 82,
     "metadata": {},
     "output_type": "execute_result"
    }
   ],
   "source": [
    "memory = [[0,20]]\n",
    "len(addr),len(lengths)"
   ]
  },
  {
   "cell_type": "code",
   "execution_count": 88,
   "metadata": {},
   "outputs": [
    {
     "name": "stderr",
     "output_type": "stream",
     "text": [
      "/Users/keshavkapoor/anaconda3/lib/python3.7/site-packages/ipykernel_launcher.py:3: UserWarning: This figure was using constrained_layout, but that is incompatible with subplots_adjust and/or tight_layout; disabling constrained_layout.\n",
      "  This is separate from the ipykernel package so we can avoid doing imports until\n"
     ]
    },
    {
     "name": "stdout",
     "output_type": "stream",
     "text": [
      "[-20 312]\n",
      "312\n"
     ]
    },
    {
     "data": {
      "application/vnd.jupyter.widget-view+json": {
       "model_id": "8348bf3597884d48b1da72997e06794f",
       "version_major": 2,
       "version_minor": 0
      },
      "text/html": [
       "\n",
       "            <div style=\"display: inline-block;\">\n",
       "                <div class=\"jupyter-widgets widget-label\" style=\"text-align: center;\">\n",
       "                    Figure\n",
       "                </div>\n",
       "                <img src='data:image/png;base64,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' width=880.0000000000001/>\n",
       "            </div>\n",
       "        "
      ],
      "text/plain": [
       "Canvas(toolbar=Toolbar(toolitems=[('Home', 'Reset original view', 'home', 'home'), ('Back', 'Back to previous …"
      ]
     },
     "metadata": {},
     "output_type": "display_data"
    }
   ],
   "source": [
    "fig, ax = plt.subplots(figsize=(8.8, 5), constrained_layout=True)\n",
    "ax.set(title=\"Timeline\")\n",
    "plt.subplots_adjust(bottom=0.25)\n",
    "#levels = np.tile([-5, 5, -3, 3, -1, 1],\n",
    "#                 int(np.ceil(len(Times)/6)))[:len(Times)]\n",
    "\n",
    "\n",
    "\n",
    "ax.vlines(Times, Page, levels, color=\"tab:red\",alpha=0.6)  # The vertical stems.\n",
    "ax.plot(Times, Page,ls='',\n",
    "        color=\"k\")  # Baseline and markers on it.\n",
    "\n",
    "for i,level in enumerate(levels):\n",
    "    if level >=12:\n",
    "        ax.plot(Times[i],levels[i],marker='o',color='k',markerfacecolor='w')\n",
    "\n",
    "for i in range(8):\n",
    "    ax.hlines(i,-20,max(Times+lengths)+2,color='k')\n",
    "    \n",
    "for i in range(12,20):\n",
    "    ax.hlines(i,-20,max(Times+lengths)+2,color='b')\n",
    "    \n",
    "for i,out in enumerate(lengths):\n",
    "    if out > 0:\n",
    "        ax.hlines(levels[i],Times[i],Times[i]+out+2,color=\"red\")\n",
    "        address = addr[i]\n",
    "        for mem in memory:\n",
    "            if mem[0] == address:\n",
    "                pulse_length = mem[1]\n",
    "        pulse = [levels[i] for _ in range(out+2)]\n",
    "        for j in range(pulse_length):\n",
    "            pulse[j+1] = pulse[j+1]+0.8\n",
    "        ax.plot([i for i in range(Times[i],Times[i]+out+2)],pulse,color=\"red\")\n",
    "\n",
    "# annotate lines\n",
    "for d, l, r in zip(Times, Page, Instructions):\n",
    "    ax.annotate(r, xy=(d, l),\n",
    "               bbox=dict(boxstyle=\"square,pad=0.3\", fc=\"cyan\", ec=\"b\", lw=2),\n",
    "                verticalalignment='center',\n",
    "               rotation=90,size=6)\n",
    "slider_ax = plt.axes([0.20, 0.1, 0.60, 0.03])\n",
    "slider = RangeSlider(slider_ax, \"Threshold\", -20, max(Times+lengths)+2,valinit=(-20,max(Times+lengths)+2))\n",
    "print(slider.val)\n",
    "print(slider.val[1])\n",
    "ax.set_xlim(slider.val[0],slider.val[1])\n",
    "\n",
    "def update(val):\n",
    "    # The val passed to a callback by the RangeSlider will\n",
    "    # be a tuple of (min, max)\n",
    "    # Update the position of the vertical lines\n",
    "    ax.set_xlim(slider.val[0],slider.val[1])\n",
    "\n",
    "    # Redraw the figure to ensure it updates\n",
    "    ax.canvas.draw_idle()\n",
    "\n",
    "#plt.xscale('log')\n",
    "#ax.yaxis.set_visible(False)\n",
    "ticks = [0,1,2,3,4,5,6,7,12,13,14,15,16,17,18,19]\n",
    "dic = {0:'Page 0',1:'Page 1',2:'Page 2',3:'Page 3',4:'Page 4',5:'Page 5',6:'Page 6',7:'Page 7',\n",
    "      12:'Channel 1',13:'Channel 2',14:'Channel 3',15:'Channel 4',16:'Channel 5',17:'Channel 6',\n",
    "      18:'Channel 7',19:'Channel 8'}\n",
    "labels = [ticks[i] if t not in dic.keys() else dic[t] for i,t in enumerate(ticks)]\n",
    "ax.set_yticks(ticks)\n",
    "ax.set_yticklabels(labels)\n",
    "plt.xlabel(\"Time Step\")\n",
    "slider.on_changed(update)\n",
    "plt.show()"
   ]
  },
  {
   "cell_type": "code",
   "execution_count": 55,
   "metadata": {},
   "outputs": [
    {
     "data": {
      "text/plain": [
       "'asm'"
      ]
     },
     "execution_count": 57,
     "metadata": {},
     "output_type": "execute_result"
    }
   ],
   "source": [
    "\"01_phase_calibration.asm\"[-4:]"
   ]
  },
  {
   "cell_type": "code",
   "execution_count": null,
   "metadata": {},
   "outputs": [],
   "source": []
  }
 ],
 "metadata": {
  "kernelspec": {
   "display_name": "Python 3 (ipykernel)",
   "language": "python",
   "name": "python3"
  },
  "language_info": {
   "codemirror_mode": {
    "name": "ipython",
    "version": 3
   },
   "file_extension": ".py",
   "mimetype": "text/x-python",
   "name": "python",
   "nbconvert_exporter": "python",
   "pygments_lexer": "ipython3",
   "version": "3.7.11"
  }
 },
 "nbformat": 4,
 "nbformat_minor": 4
}
