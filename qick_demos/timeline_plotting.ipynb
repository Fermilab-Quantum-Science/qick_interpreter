{
 "cells": [
  {
   "cell_type": "code",
   "execution_count": 95,
   "metadata": {},
   "outputs": [],
   "source": [
    "import pandas as pd\n",
    "from pandas.plotting import table\n",
    "import matplotlib.pyplot as plt\n",
    "from matplotlib.widgets import RangeSlider\n",
    "%matplotlib widget\n",
    "#import plotly.graph_objects as go\n",
    "#import plotly.express as px\n",
    "import numpy as np\n",
    "from ast import literal_eval"
   ]
  },
  {
   "cell_type": "code",
   "execution_count": 81,
   "metadata": {},
   "outputs": [],
   "source": [
    "log = pd.read_csv('dataframe_output.csv',index_col=0)"
   ]
  },
  {
   "cell_type": "code",
   "execution_count": 82,
   "metadata": {},
   "outputs": [
    {
     "data": {
      "text/html": [
       "<div>\n",
       "<style scoped>\n",
       "    .dataframe tbody tr th:only-of-type {\n",
       "        vertical-align: middle;\n",
       "    }\n",
       "\n",
       "    .dataframe tbody tr th {\n",
       "        vertical-align: top;\n",
       "    }\n",
       "\n",
       "    .dataframe thead th {\n",
       "        text-align: right;\n",
       "    }\n",
       "</style>\n",
       "<table border=\"1\" class=\"dataframe\">\n",
       "  <thead>\n",
       "    <tr style=\"text-align: right;\">\n",
       "      <th></th>\n",
       "      <th>Time</th>\n",
       "      <th>Instruction</th>\n",
       "      <th>Output Channel</th>\n",
       "      <th>Page</th>\n",
       "      <th>Channel No</th>\n",
       "    </tr>\n",
       "  </thead>\n",
       "  <tbody>\n",
       "    <tr>\n",
       "      <th>0</th>\n",
       "      <td>2</td>\n",
       "      <td>memri</td>\n",
       "      <td>[[0], [], [], [], [0, 0, 140542116033568, 3200...</td>\n",
       "      <td>1</td>\n",
       "      <td>-1</td>\n",
       "    </tr>\n",
       "    <tr>\n",
       "      <th>1</th>\n",
       "      <td>4</td>\n",
       "      <td>regwi</td>\n",
       "      <td>[[0], [], [], [], [0, 0, 140542116033568, 3200...</td>\n",
       "      <td>1</td>\n",
       "      <td>-1</td>\n",
       "    </tr>\n",
       "    <tr>\n",
       "      <th>2</th>\n",
       "      <td>6</td>\n",
       "      <td>regwi</td>\n",
       "      <td>[[0], [], [], [], [0, 0, 140542116033568, 3200...</td>\n",
       "      <td>1</td>\n",
       "      <td>-1</td>\n",
       "    </tr>\n",
       "    <tr>\n",
       "      <th>3</th>\n",
       "      <td>8</td>\n",
       "      <td>regwi</td>\n",
       "      <td>[[0], [], [], [], [0, 0, 140542116033568, 3200...</td>\n",
       "      <td>1</td>\n",
       "      <td>-1</td>\n",
       "    </tr>\n",
       "    <tr>\n",
       "      <th>4</th>\n",
       "      <td>10</td>\n",
       "      <td>bitwi</td>\n",
       "      <td>[[0], [], [], [], [0, 0, 140542116033568, 3200...</td>\n",
       "      <td>1</td>\n",
       "      <td>-1</td>\n",
       "    </tr>\n",
       "  </tbody>\n",
       "</table>\n",
       "</div>"
      ],
      "text/plain": [
       "   Time Instruction                                     Output Channel  Page  \\\n",
       "0     2       memri  [[0], [], [], [], [0, 0, 140542116033568, 3200...     1   \n",
       "1     4       regwi  [[0], [], [], [], [0, 0, 140542116033568, 3200...     1   \n",
       "2     6       regwi  [[0], [], [], [], [0, 0, 140542116033568, 3200...     1   \n",
       "3     8       regwi  [[0], [], [], [], [0, 0, 140542116033568, 3200...     1   \n",
       "4    10       bitwi  [[0], [], [], [], [0, 0, 140542116033568, 3200...     1   \n",
       "\n",
       "   Channel No  \n",
       "0          -1  \n",
       "1          -1  \n",
       "2          -1  \n",
       "3          -1  \n",
       "4          -1  "
      ]
     },
     "execution_count": 82,
     "metadata": {},
     "output_type": "execute_result"
    }
   ],
   "source": [
    "log.head()"
   ]
  },
  {
   "cell_type": "code",
   "execution_count": 98,
   "metadata": {},
   "outputs": [
    {
     "data": {
      "text/plain": [
       "[[0],\n",
       " [],\n",
       " [],\n",
       " [],\n",
       " [0, 0, 140542116033568, 32000, 1],\n",
       " [0, 0, 140542116033568, 32000, 1],\n",
       " [0, 0, 140542116033568, 32000, 1],\n",
       " [0, 0, 140542116033568, 32000, 1]]"
      ]
     },
     "execution_count": 98,
     "metadata": {},
     "output_type": "execute_result"
    }
   ],
   "source": [
    "literal_eval(log[\"Output Channel\"][1])"
   ]
  },
  {
   "cell_type": "code",
   "execution_count": 117,
   "metadata": {},
   "outputs": [],
   "source": [
    "Times = np.array(log['Time'])\n",
    "Output_channel = np.array(log['Output Channel'])\n",
    "Instructions = np.array(log['Instruction'])\n",
    "Page = np.array(log['Page'])\n",
    "Channels = np.array(log['Channel No'])\n",
    "levels = []\n",
    "lengths = []\n",
    "for i,output in enumerate(Output_channel):\n",
    "    Output_channel[i] = literal_eval(output)\n",
    "for i,channel in enumerate(Channels):\n",
    "    if channel != -1:\n",
    "        levels.append(channel+12)\n",
    "        if len(Output_channel[i][channel]) == 5:\n",
    "            lengths.append(int(format(Output_channel[i][channel][3],\"b\"))&0b111111111111)\n",
    "        else:\n",
    "            lengths.append(0)\n",
    "            #print(max(Output_channel[i][channel])&0b1111111111111111)\n",
    "    else:\n",
    "        lengths.append(0)\n",
    "        levels.append(Page[i])\n",
    "    #else:\n",
    "        #levels.append(channel+12)"
   ]
  },
  {
   "cell_type": "code",
   "execution_count": 122,
   "metadata": {},
   "outputs": [
    {
     "name": "stderr",
     "output_type": "stream",
     "text": [
      "/Users/keshavkapoor/anaconda3/lib/python3.7/site-packages/ipykernel_launcher.py:3: UserWarning: This figure was using constrained_layout, but that is incompatible with subplots_adjust and/or tight_layout; disabling constrained_layout.\n",
      "  This is separate from the ipykernel package so we can avoid doing imports until\n"
     ]
    },
    {
     "name": "stdout",
     "output_type": "stream",
     "text": [
      "[ -20 4330]\n",
      "4330\n"
     ]
    },
    {
     "data": {
      "application/vnd.jupyter.widget-view+json": {
       "model_id": "73233cf07f534abc8e5c5d51078902b4",
       "version_major": 2,
       "version_minor": 0
      },
      "text/html": [
       "\n",
       "            <div style=\"display: inline-block;\">\n",
       "                <div class=\"jupyter-widgets widget-label\" style=\"text-align: center;\">\n",
       "                    Figure\n",
       "                </div>\n",
       "                <img src='data:image/png;base64,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' width=880.0000000000001/>\n",
       "            </div>\n",
       "        "
      ],
      "text/plain": [
       "Canvas(toolbar=Toolbar(toolitems=[('Home', 'Reset original view', 'home', 'home'), ('Back', 'Back to previous …"
      ]
     },
     "metadata": {},
     "output_type": "display_data"
    }
   ],
   "source": [
    "fig, ax = plt.subplots(figsize=(8.8, 5), constrained_layout=True)\n",
    "ax.set(title=\"Timeline\")\n",
    "plt.subplots_adjust(bottom=0.25)\n",
    "#levels = np.tile([-5, 5, -3, 3, -1, 1],\n",
    "#                 int(np.ceil(len(Times)/6)))[:len(Times)]\n",
    "\n",
    "\n",
    "\n",
    "ax.vlines(Times, Page, levels, color=\"tab:red\",alpha=0.6)  # The vertical stems.\n",
    "ax.plot(Times, Page,ls='',\n",
    "        color=\"k\")  # Baseline and markers on it.\n",
    "\n",
    "for i,level in enumerate(levels):\n",
    "    if level >=12:\n",
    "        ax.plot(Times[i],levels[i],marker='o',color='k',markerfacecolor='w')\n",
    "\n",
    "for i in range(8):\n",
    "    ax.hlines(i,-20,max(Times+lengths)+2,color='k')\n",
    "    \n",
    "for i in range(12,20):\n",
    "    ax.hlines(i,-20,max(Times+lengths)+2,color='b')\n",
    "    \n",
    "for i,out in enumerate(lengths):\n",
    "    if out > 0:\n",
    "        ax.hlines(levels[i]+Page[i]-1,Times[i],Times[i]+out,color=\"red\")\n",
    "\n",
    "# annotate lines\n",
    "for d, l, r in zip(Times, Page, Instructions):\n",
    "    ax.annotate(r, xy=(d, l),\n",
    "               bbox=dict(boxstyle=\"square,pad=0.3\", fc=\"cyan\", ec=\"b\", lw=2),\n",
    "                verticalalignment='center',\n",
    "               rotation=90,size=6)\n",
    "slider_ax = plt.axes([0.20, 0.1, 0.60, 0.03])\n",
    "slider = RangeSlider(slider_ax, \"Threshold\", -20, max(Times+lengths)+2,valinit=(-20,max(Times+lengths)+2))\n",
    "print(slider.val)\n",
    "print(slider.val[1])\n",
    "ax.set_xlim(slider.val[0],slider.val[1])\n",
    "\n",
    "def update(val):\n",
    "    # The val passed to a callback by the RangeSlider will\n",
    "    # be a tuple of (min, max)\n",
    "    # Update the position of the vertical lines\n",
    "    ax.set_xlim(slider.val[0],slider.val[1])\n",
    "\n",
    "    # Redraw the figure to ensure it updates\n",
    "    ax.canvas.draw_idle()\n",
    "\n",
    "#plt.xscale('log')\n",
    "#ax.yaxis.set_visible(False)\n",
    "ticks = [0,1,2,3,4,5,6,7,12,13,14,15,16,17,18,19]\n",
    "dic = {0:'Page 0',1:'Page 1',2:'Page 2',3:'Page 3',4:'Page 4',5:'Page 5',6:'Page 6',7:'Page 7',\n",
    "      12:'Channel 1',13:'Channel 2',14:'Channel 3',15:'Channel 4',16:'Channel 5',17:'Channel 6',\n",
    "      18:'Channel 7',19:'Channel 8'}\n",
    "labels = [ticks[i] if t not in dic.keys() else dic[t] for i,t in enumerate(ticks)]\n",
    "ax.set_yticks(ticks)\n",
    "ax.set_yticklabels(labels)\n",
    "plt.xlabel(\"Time Step\")\n",
    "slider.on_changed(update)\n",
    "plt.show()"
   ]
  },
  {
   "cell_type": "code",
   "execution_count": 55,
   "metadata": {},
   "outputs": [
    {
     "data": {
      "text/plain": [
       "'asm'"
      ]
     },
     "execution_count": 57,
     "metadata": {},
     "output_type": "execute_result"
    }
   ],
   "source": [
    "\"01_phase_calibration.asm\"[-4:]"
   ]
  },
  {
   "cell_type": "code",
   "execution_count": null,
   "metadata": {},
   "outputs": [],
   "source": []
  }
 ],
 "metadata": {
  "kernelspec": {
   "display_name": "Python 3 (ipykernel)",
   "language": "python",
   "name": "python3"
  },
  "language_info": {
   "codemirror_mode": {
    "name": "ipython",
    "version": 3
   },
   "file_extension": ".py",
   "mimetype": "text/x-python",
   "name": "python",
   "nbconvert_exporter": "python",
   "pygments_lexer": "ipython3",
   "version": "3.7.11"
  }
 },
 "nbformat": 4,
 "nbformat_minor": 4
}
