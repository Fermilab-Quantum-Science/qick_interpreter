{
 "cells": [
  {
   "cell_type": "markdown",
   "metadata": {},
   "source": [
    "# <center> Sending and receiving a pulse demonstration\n",
    "\n",
    "### <center> In this demo you will send and receive a pulse in loopback to demonstrate control over the QICK. \n",
    "\n",
    "By modifying the <code> config </code> Python dictionary in the below notebook cell, you can change several variables:\n",
    "* The pulse length <code> length </code> in FPGA clock ticks (1 clock tick = 2.6 ns).\n",
    "* The readout buffer length <code> readout_length </code> in FPGA clock ticks.\n",
    "* The pulse envelope shape <code> pulse_style </code> (either <code> const </code> or <code> flat_top </code> or <code> arb </code>)\n",
    "* The pulse amplitude <code> pulse_gain </code> in DAC units.\n",
    "* The pulse frequency <code> pulse_freq </code> in MHz.\n",
    "* The readout \"time of flight\" <code> adc_trig_offset </code> in FPGA clock ticks.\n",
    "* The number of times you average the read <code> soft_avgs </code>"
   ]
  },
  {
   "cell_type": "code",
   "execution_count": 1,
   "metadata": {},
   "outputs": [
    {
     "data": {
      "application/javascript": "\ntry {\nrequire(['notebook/js/codecell'], function(codecell) {\n  codecell.CodeCell.options_default.highlight_modes[\n      'magic_text/x-csrc'] = {'reg':[/^%%microblaze/]};\n  Jupyter.notebook.events.one('kernel_ready.Kernel', function(){\n      Jupyter.notebook.get_cells().map(function(cell){\n          if (cell.cell_type == 'code'){ cell.auto_highlight(); } }) ;\n  });\n});\n} catch (e) {};\n"
     },
     "metadata": {},
     "output_type": "display_data"
    },
    {
     "data": {
      "application/javascript": "\ntry {\nrequire(['notebook/js/codecell'], function(codecell) {\n  codecell.CodeCell.options_default.highlight_modes[\n      'magic_text/x-csrc'] = {'reg':[/^%%pybind11/]};\n  Jupyter.notebook.events.one('kernel_ready.Kernel', function(){\n      Jupyter.notebook.get_cells().map(function(cell){\n          if (cell.cell_type == 'code'){ cell.auto_highlight(); } }) ;\n  });\n});\n} catch (e) {};\n"
     },
     "metadata": {},
     "output_type": "display_data"
    }
   ],
   "source": [
    "# Import the QICK drivers and auxiliary libraries\n",
    "from qick import *\n",
    "from qick.helpers import gauss\n",
    "import time\n",
    "%matplotlib inline\n",
    "\n",
    "from interpreter import simulate\n",
    "from interpreter import save_results"
   ]
  },
  {
   "cell_type": "code",
   "execution_count": 2,
   "metadata": {},
   "outputs": [
    {
     "name": "stderr",
     "output_type": "stream",
     "text": [
      "/home/jimk/.local/lib/python3.8/site-packages/pynq/pl_server/device.py:79: UserWarning: No devices found, is the XRT environment sourced?\n",
      "  warnings.warn(\n"
     ]
    }
   ],
   "source": [
    "# Load bitstream with custom overlay\n",
    "soc = QickSoc()\n",
    "# Set the loopback DAC channel to be in 1st Nyquist zone mode\n",
    "soc.set_nyquist(ch=7,nqz=1); "
   ]
  },
  {
   "cell_type": "markdown",
   "metadata": {},
   "source": [
    "### Hardware Configuration\n",
    "\n",
    "tProc channel 7   : DAC 229 CH3  <-> Readout channel 0 : ADC 224 CH0"
   ]
  },
  {
   "cell_type": "code",
   "execution_count": 3,
   "metadata": {},
   "outputs": [],
   "source": [
    "class LoopbackProgram(AveragerProgram):\n",
    "    def __init__(self,cfg):\n",
    "        AveragerProgram.__init__(self,cfg)\n",
    "\n",
    "    def initialize(self):\n",
    "        cfg=self.cfg   \n",
    "        r_freq=self.sreg(cfg[\"res_ch\"], \"freq\")   #Get frequency register for res_ch\n",
    "        self.cfg[\"adc_lengths\"]=[self.cfg[\"readout_length\"]]*2          #add length of adc acquisition to config\n",
    "        self.cfg[\"adc_freqs\"]=[adcfreq(self.cfg[\"pulse_freq\"])]*2   #add frequency of adc ddc to config\n",
    "        \n",
    "        if self.cfg[\"pulse_style\"] == \"const\":\n",
    "            self.add_pulse(ch=self.cfg[\"res_ch\"], name=\"measure\", style=self.cfg[\"pulse_style\"], length=self.cfg[\"length\"])  #add a constant pulse to the pulse library\n",
    "        if self.cfg[\"pulse_style\"] == \"flat_top\":\n",
    "            self.add_pulse(ch=self.cfg[\"res_ch\"], name=\"measure\", style=self.cfg[\"pulse_style\"], length=self.cfg[\"length\"], idata = self.cfg[\"idata\"]) \n",
    "        if self.cfg[\"pulse_style\"] == \"arb\":\n",
    "            self.add_pulse(ch=self.cfg[\"res_ch\"], name=\"measure\", style=self.cfg[\"pulse_style\"], idata = self.cfg[\"idata\"]) \n",
    "        \n",
    "        freq=freq2reg(adcfreq(cfg[\"pulse_freq\"]))  # convert frequency to dac frequency (ensuring it is an available adc frequency)\n",
    "        self.pulse(ch=cfg[\"res_ch\"], name=\"measure\", freq=freq, phase=0, gain=cfg[\"pulse_gain\"], t= 0, play=False) # pre-configure readout pulse\n",
    "        self.synci(200)  # give processor some time to configure pulses\n",
    "    \n",
    "    def body(self):\n",
    "        self.trigger_adc(adc1=1, adc2=1,adc_trig_offset=self.cfg[\"adc_trig_offset\"])  # trigger the adc acquisition\n",
    "        if self.cfg[\"pulse_style\"] == \"const\":\n",
    "            self.pulse(ch=self.cfg[\"res_ch\"], length=self.cfg[\"length\"], play=True) # play readout pulse\n",
    "        if self.cfg[\"pulse_style\"] == \"flat_top\":\n",
    "            self.pulse(ch=self.cfg[\"res_ch\"], name=\"measure\", play=True) # play readout pulse\n",
    "        if self.cfg[\"pulse_style\"] == \"arb\":\n",
    "            self.pulse(ch=self.cfg[\"res_ch\"], play=True) # play readout pulse\n",
    "        self.sync_all(us2cycles(self.cfg[\"relax_delay\"]))  # sync all channels"
   ]
  },
  {
   "cell_type": "markdown",
   "metadata": {},
   "source": [
    "### Send/receive a pulse with <code> pulse_style </code> = <code> const </code>"
   ]
  },
  {
   "cell_type": "code",
   "execution_count": 12,
   "metadata": {},
   "outputs": [
    {
     "name": "stdout",
     "output_type": "stream",
     "text": [
      "using qick program version\n",
      "1: pulses=[[7, 'const', 0, 20]]\n",
      "1: log=[(0, 0, 3, 0, 'regwi', {'page': 3, 'ch': 0, 'oper': 0, 'ra': 16, 'rb': 0, 'rc': 0, 'imm': 69905067}), (2, 1, 3, 0, 'regwi', {'page': 3, 'ch': 0, 'oper': 0, 'ra': 17, 'rb': 0, 'rc': 0, 'imm': 0}), (4, 2, 3, 0, 'regwi', {'page': 3, 'ch': 0, 'oper': 0, 'ra': 19, 'rb': 0, 'rc': 0, 'imm': 3000}), (6, 3, 3, 0, 'regwi', {'page': 3, 'ch': 0, 'oper': 0, 'ra': 21, 'rb': 0, 'rc': 0, 'imm': 0}), (8, 4, 3, 0, 'regwi', {'page': 3, 'ch': 0, 'oper': 0, 'ra': 20, 'rb': 0, 'rc': 0, 'imm': 589844}), (10, 5, 0, 0, 'synci', {'page': 0, 'ch': 0, 'oper': 0, 'ra': 0, 'rb': 0, 'rc': 0, 'imm': 200}), (12, 6, 0, 0, 'regwi', {'page': 0, 'ch': 0, 'oper': 0, 'ra': 15, 'rb': 0, 'rc': 0, 'imm': 0}), (14, 7, 0, 0, 'regwi', {'page': 0, 'ch': 0, 'oper': 0, 'ra': 14, 'rb': 0, 'rc': 0, 'imm': 0}), (16, 8, 0, 0, 'regwi', {'page': 0, 'ch': 0, 'oper': 0, 'ra': 31, 'rb': 0, 'rc': 0, 'imm': 49152}), (18, 9, 0, 0, 'seti', {'page': 0, 'ch': 0, 'oper': 0, 'ra': 0, 'rb': 31, 'rc': 0, 'imm': 100}), (20, 10, 0, 0, 'regwi', {'page': 0, 'ch': 0, 'oper': 0, 'ra': 31, 'rb': 0, 'rc': 0, 'imm': 0}), (22, 11, 0, 0, 'seti', {'page': 0, 'ch': 0, 'oper': 0, 'ra': 0, 'rb': 31, 'rc': 0, 'imm': 110}), (24, 12, 3, 0, 'regwi', {'page': 3, 'ch': 0, 'oper': 0, 'ra': 20, 'rb': 0, 'rc': 0, 'imm': 589844}), (26, 13, 3, 0, 'regwi', {'page': 3, 'ch': 0, 'oper': 0, 'ra': 21, 'rb': 0, 'rc': 0, 'imm': 0}), (28, 14, 3, 7, 'set', {'page': 3, 'ch': 7, 'oper': 0, 'ra': 0, 'rb': 16, 'rc': 21, 'rd': 17, 're': 18, 'rf': 19, 'rg': 20, 'rh': 0}), (30, 15, 0, 0, 'synci', {'page': 0, 'ch': 0, 'oper': 0, 'ra': 0, 'rb': 0, 'rc': 0, 'imm': 20}), (32, 16, 0, 0, 'mathi', {'page': 0, 'ch': 0, 'oper': 8, 'ra': 15, 'rb': 15, 'rc': 0, 'imm': 1}), (34, 17, 0, 0, 'memwi', {'page': 0, 'ch': 0, 'oper': 0, 'ra': 15, 'rb': 0, 'rc': 0, 'imm': 1}), (36, 18, 0, None, 'loopnz', {'page': 0, 'oper': 8, 'ra': 14, 'rb': 14, 'rc': 0, 'addr': 8}), (38, 19, 0, None, 'end', {'page': 0, 'oper': 0, 'ra': 0, 'rb': 0, 'rc': 0, 'addr': 0}), (200, 20, 3, 7, 'set', {'page': 3, 'ch': 7, 'oper': 0, 'ra': 0, 'rb': 16, 'rc': 21, 'rd': 17, 're': 18, 'rf': 19, 'rg': 20, 'rh': 0}), (300, 20, 0, 0, 'seti', {'page': 0, 'ch': 0, 'oper': 0, 'ra': 0, 'rb': 31, 'rc': 0, 'imm': 100}), (310, 20, 0, 0, 'seti', {'page': 0, 'ch': 0, 'oper': 0, 'ra': 0, 'rb': 31, 'rc': 0, 'imm': 110})]\n",
      "1: mem changes=[(34, 17, 0, 1, 1)]\n"
     ]
    }
   ],
   "source": [
    "config={\"res_ch\":7, # --Fixed\n",
    "        \"reps\":1, # --Fixed\n",
    "        \"relax_delay\":0, # --Fixed\n",
    "        \"res_phase\":0, # --Fixed\n",
    "        \"pulse_style\": \"const\", # --Fixed\n",
    "        \n",
    "        \"length\":20, # [Clock ticks]\n",
    "        # Try varying length from 10-100 clock ticks\n",
    "        \n",
    "        \"readout_length\":200, # [Clock ticks]\n",
    "        # Try varying readout_length from 50-1000 clock ticks\n",
    "\n",
    "        \"pulse_gain\":3000, # [DAC units]\n",
    "        # Try varying pulse_gain from 500 to 30000 DAC units\n",
    "\n",
    "        \"pulse_freq\": 100, # [MHz]\n",
    "        # In this program the signal is up and downconverted digitally so you won't see any frequency\n",
    "        # components in the I/Q traces below. But since the signal gain depends on frequency, \n",
    "        # if you lower pulse_freq you will see an increased gain.\n",
    "\n",
    "        \"adc_trig_offset\": 100, # [Clock ticks]\n",
    "        # Try varying adc_trig_offset from 100 to 220 clock ticks\n",
    "\n",
    "        \"soft_avgs\":100\n",
    "        # Try varying soft_avgs from 1 to 200 averages\n",
    "\n",
    "       }\n",
    "\n",
    "###################\n",
    "# Try it yourself !\n",
    "###################\n",
    "\n",
    "prog1 =LoopbackProgram(config)\n",
    "#prog1.acquire_decimated(soc, load_pulses=True, progress=True, debug=False)\n",
    "\n",
    "results = simulate(prog1)\n",
    "print(f'1: pulses={results[\"pulses\"]}')\n",
    "print(f'1: log={results[\"instruction_log\"]}')\n",
    "print(f'1: mem changes={results[\"mem_changes\"]}')\n",
    "\n",
    "# can't do this for const pulse\n",
    "#print(results['pulses'][0][3].size)"
   ]
  },
  {
   "cell_type": "markdown",
   "metadata": {},
   "source": [
    "### Send/receive a pulse with <code> pulse_style </code> = <code> flat_top </code>"
   ]
  },
  {
   "cell_type": "code",
   "execution_count": 13,
   "metadata": {},
   "outputs": [
    {
     "name": "stdout",
     "output_type": "stream",
     "text": [
      "using qick program version\n",
      "2: pulses=[[7, 'flat_top', 0, array([61, 62, 63, ..., 63, 63, 62], dtype=int16), array([0, 0, 0, ..., 0, 0, 0], dtype=int16)]]\n",
      "2: log=[(0, 0, 3, 0, 'regwi', {'page': 3, 'ch': 0, 'oper': 0, 'ra': 16, 'rb': 0, 'rc': 0, 'imm': 69905067}), (2, 1, 3, 0, 'regwi', {'page': 3, 'ch': 0, 'oper': 0, 'ra': 17, 'rb': 0, 'rc': 0, 'imm': 0}), (4, 2, 3, 0, 'regwi', {'page': 3, 'ch': 0, 'oper': 0, 'ra': 19, 'rb': 0, 'rc': 0, 'imm': 5000}), (6, 3, 3, 0, 'regwi', {'page': 3, 'ch': 0, 'oper': 0, 'ra': 21, 'rb': 0, 'rc': 0, 'imm': 0}), (8, 4, 3, 0, 'regwi', {'page': 3, 'ch': 0, 'oper': 0, 'ra': 18, 'rb': 0, 'rc': 0, 'imm': 0}), (10, 5, 3, 0, 'regwi', {'page': 3, 'ch': 0, 'oper': 0, 'ra': 20, 'rb': 0, 'rc': 0, 'imm': 524363}), (12, 6, 3, 0, 'regwi', {'page': 3, 'ch': 0, 'oper': 0, 'ra': 22, 'rb': 0, 'rc': 0, 'imm': 50}), (14, 7, 0, 0, 'synci', {'page': 0, 'ch': 0, 'oper': 0, 'ra': 0, 'rb': 0, 'rc': 0, 'imm': 200}), (16, 8, 0, 0, 'regwi', {'page': 0, 'ch': 0, 'oper': 0, 'ra': 15, 'rb': 0, 'rc': 0, 'imm': 0}), (18, 9, 0, 0, 'regwi', {'page': 0, 'ch': 0, 'oper': 0, 'ra': 14, 'rb': 0, 'rc': 0, 'imm': 0}), (20, 10, 0, 0, 'regwi', {'page': 0, 'ch': 0, 'oper': 0, 'ra': 31, 'rb': 0, 'rc': 0, 'imm': 49152}), (22, 11, 0, 0, 'seti', {'page': 0, 'ch': 0, 'oper': 0, 'ra': 0, 'rb': 31, 'rc': 0, 'imm': 200}), (24, 12, 0, 0, 'regwi', {'page': 0, 'ch': 0, 'oper': 0, 'ra': 31, 'rb': 0, 'rc': 0, 'imm': 0}), (26, 13, 0, 0, 'seti', {'page': 0, 'ch': 0, 'oper': 0, 'ra': 0, 'rb': 31, 'rc': 0, 'imm': 210}), (28, 14, 3, 0, 'regwi', {'page': 3, 'ch': 0, 'oper': 0, 'ra': 18, 'rb': 0, 'rc': 0, 'imm': 0}), (30, 15, 3, 0, 'regwi', {'page': 3, 'ch': 0, 'oper': 0, 'ra': 20, 'rb': 0, 'rc': 0, 'imm': 524363}), (32, 16, 3, 0, 'regwi', {'page': 3, 'ch': 0, 'oper': 0, 'ra': 22, 'rb': 0, 'rc': 0, 'imm': 50}), (34, 17, 3, 0, 'regwi', {'page': 3, 'ch': 0, 'oper': 0, 'ra': 19, 'rb': 0, 'rc': 0, 'imm': 5000}), (36, 18, 3, 0, 'regwi', {'page': 3, 'ch': 0, 'oper': 0, 'ra': 21, 'rb': 0, 'rc': 0, 'imm': 0}), (38, 19, 3, 0, 'regwi', {'page': 3, 'ch': 0, 'oper': 0, 'ra': 18, 'rb': 0, 'rc': 0, 'imm': 0}), (40, 20, 3, 0, 'regwi', {'page': 3, 'ch': 0, 'oper': 0, 'ra': 20, 'rb': 0, 'rc': 0, 'imm': 524363}), (42, 21, 3, 7, 'set', {'page': 3, 'ch': 7, 'oper': 0, 'ra': 0, 'rb': 16, 'rc': 21, 'rd': 17, 're': 18, 'rf': 19, 'rg': 20, 'rh': 0}), (44, 22, 3, 0, 'regwi', {'page': 3, 'ch': 0, 'oper': 0, 'ra': 19, 'rb': 0, 'rc': 0, 'imm': 2500}), (46, 23, 3, 0, 'regwi', {'page': 3, 'ch': 0, 'oper': 0, 'ra': 21, 'rb': 0, 'rc': 0, 'imm': 0}), (48, 24, 3, 0, 'regwi', {'page': 3, 'ch': 0, 'oper': 0, 'ra': 18, 'rb': 0, 'rc': 0, 'imm': 0}), (50, 25, 3, 0, 'regwi', {'page': 3, 'ch': 0, 'oper': 0, 'ra': 20, 'rb': 0, 'rc': 0, 'imm': 589824}), (52, 26, 3, 0, 'math', {'page': 3, 'ch': 0, 'oper': 8, 'ra': 20, 'rb': 20, 'rc': 22, 'rd': 0, 're': 0, 'rf': 0, 'rg': 0, 'rh': 0}), (54, 27, 3, 7, 'set', {'page': 3, 'ch': 7, 'oper': 0, 'ra': 0, 'rb': 16, 'rc': 21, 'rd': 17, 're': 18, 'rf': 19, 'rg': 20, 'rh': 0}), (56, 28, 3, 0, 'regwi', {'page': 3, 'ch': 0, 'oper': 0, 'ra': 19, 'rb': 0, 'rc': 0, 'imm': 5000}), (58, 29, 3, 0, 'regwi', {'page': 3, 'ch': 0, 'oper': 0, 'ra': 21, 'rb': 0, 'rc': 0, 'imm': 125}), (60, 30, 3, 0, 'regwi', {'page': 3, 'ch': 0, 'oper': 0, 'ra': 18, 'rb': 0, 'rc': 0, 'imm': 75}), (62, 31, 3, 0, 'regwi', {'page': 3, 'ch': 0, 'oper': 0, 'ra': 20, 'rb': 0, 'rc': 0, 'imm': 524363}), (64, 32, 3, 7, 'set', {'page': 3, 'ch': 7, 'oper': 0, 'ra': 0, 'rb': 16, 'rc': 21, 'rd': 17, 're': 18, 'rf': 19, 'rg': 20, 'rh': 0}), (66, 33, 0, 0, 'synci', {'page': 0, 'ch': 0, 'oper': 0, 'ra': 0, 'rb': 0, 'rc': 0, 'imm': 200}), (68, 34, 0, 0, 'mathi', {'page': 0, 'ch': 0, 'oper': 8, 'ra': 15, 'rb': 15, 'rc': 0, 'imm': 1}), (70, 35, 0, 0, 'memwi', {'page': 0, 'ch': 0, 'oper': 0, 'ra': 15, 'rb': 0, 'rc': 0, 'imm': 1}), (72, 36, 0, None, 'loopnz', {'page': 0, 'oper': 8, 'ra': 14, 'rb': 14, 'rc': 0, 'addr': 10}), (74, 37, 0, None, 'end', {'page': 0, 'oper': 0, 'ra': 0, 'rb': 0, 'rc': 0, 'addr': 0}), (200, 38, 3, 7, 'set', {'page': 3, 'ch': 7, 'oper': 0, 'ra': 0, 'rb': 16, 'rc': 21, 'rd': 17, 're': 18, 'rf': 19, 'rg': 20, 'rh': 0}), (200, 38, 3, 7, 'set', {'page': 3, 'ch': 7, 'oper': 0, 'ra': 0, 'rb': 16, 'rc': 21, 'rd': 17, 're': 18, 'rf': 19, 'rg': 20, 'rh': 0}), (325, 38, 3, 7, 'set', {'page': 3, 'ch': 7, 'oper': 0, 'ra': 0, 'rb': 16, 'rc': 21, 'rd': 17, 're': 18, 'rf': 19, 'rg': 20, 'rh': 0}), (400, 38, 0, 0, 'seti', {'page': 0, 'ch': 0, 'oper': 0, 'ra': 0, 'rb': 31, 'rc': 0, 'imm': 200}), (410, 38, 0, 0, 'seti', {'page': 0, 'ch': 0, 'oper': 0, 'ra': 0, 'rb': 31, 'rc': 0, 'imm': 210})]\n",
      "2: mem changes=[(70, 35, 0, 1, 1)]\n",
      "2400\n"
     ]
    }
   ],
   "source": [
    "config={\"res_ch\":7, # --Fixed\n",
    "        \"reps\":1, # --Fixed\n",
    "        \"relax_delay\":0, # --Fixed\n",
    "        \"res_phase\":0, # --Fixed\n",
    "        \"pulse_style\": \"flat_top\", # --Fixed\n",
    "        \"length\": 50, # [Clock ticks]\n",
    "        # Try varying  length from 10-100 clock ticks\n",
    "        \"sigma\": 30, # [Clock ticks]\n",
    "        # Try varying sigma from 10-50 clock ticks\n",
    "        \n",
    "        \"readout_length\":200, # [Clock ticks]\n",
    "        # Try varying readout_length from 50-1000 clock ticks\n",
    "\n",
    "        \"pulse_gain\":5000, # [DAC units]\n",
    "        # Try varying pulse_gain from 500 to 30000 DAC units\n",
    "\n",
    "        \"pulse_freq\": 100, # [MHz]\n",
    "        # In this program the signal is up and downconverted digitally so you won't see any frequency\n",
    "        # components in the I/Q traces below. But since the signal gain depends on frequency, \n",
    "        # if you lower pulse_freq you will see an increased gain.\n",
    "\n",
    "        \"adc_trig_offset\": 200, # [Clock ticks]\n",
    "        # Try varying adc_trig_offset from 100 to 220 clock ticks\n",
    "\n",
    "        \"soft_avgs\":100\n",
    "        # Try varying soft_avgs from 1 to 200 averages\n",
    "\n",
    "       }\n",
    "config[\"idata\"] = gauss(mu=config[\"sigma\"]*16*5/2,si=config[\"sigma\"]*16,length=5*config[\"sigma\"]*16,maxv=32000)\n",
    "# Try varying idata to be an arbitrary numpy array of your choosing!\n",
    "# The first half of idata ramps up the flat_top pulse, the second half ramps down the flat_top pulse\n",
    "\n",
    "###################\n",
    "# Try it yourself !\n",
    "###################\n",
    "\n",
    "prog2 =LoopbackProgram(config)\n",
    "#prog.acquire_decimated(soc, load_pulses=True, progress=True, debug=False)\n",
    "\n",
    "results = simulate(prog2)\n",
    "print(f'2: pulses={results[\"pulses\"]}')\n",
    "print(f'2: log={results[\"instruction_log\"]}')\n",
    "print(f'2: mem changes={results[\"mem_changes\"]}')\n",
    "print(results['pulses'][0][3].size)\n"
   ]
  },
  {
   "cell_type": "markdown",
   "metadata": {},
   "source": [
    "### Send/receive a pulse with <code> pulse_style </code> = <code> arb </code>"
   ]
  },
  {
   "cell_type": "code",
   "execution_count": 6,
   "metadata": {},
   "outputs": [],
   "source": [
    "config={\"res_ch\":7, # --Fixed\n",
    "        \"reps\":1, # --Fixed\n",
    "        \"relax_delay\":0, # --Fixed\n",
    "        \"res_phase\":0, # --Fixed\n",
    "        \"pulse_style\": \"arb\", # --Fixed\n",
    "        \n",
    "        \"sigma\": 30, # [Clock ticks]\n",
    "        # Try varying sigma from 10-50 clock ticks\n",
    "        \n",
    "        \"readout_length\":200, # [Clock ticks]\n",
    "        # Try varying readout_length from 50-1000 clock ticks\n",
    "\n",
    "        \"pulse_gain\":5000, # [DAC units]\n",
    "        # Try varying pulse_gain from 500 to 30000 DAC units\n",
    "\n",
    "        \"pulse_freq\": 100, # [MHz]\n",
    "        # In this program the signal is up and downconverted digitally so you won't see any frequency\n",
    "        # components in the I/Q traces below. But since the signal gain depends on frequency, \n",
    "        # if you lower pulse_freq you will see an increased gain.\n",
    "\n",
    "        \"adc_trig_offset\": 200, # [Clock ticks]\n",
    "        # Try varying adc_trig_offset from 100 to 220 clock ticks\n",
    "\n",
    "        \"soft_avgs\":100\n",
    "        # Try varying soft_avgs from 1 to 200 averages\n",
    "\n",
    "       }\n",
    "config[\"idata\"] = gauss(mu=config[\"sigma\"]*16*5/2,si=config[\"sigma\"]*16,length=5*config[\"sigma\"]*16,maxv=32000)\n",
    "# Try varying idata to be an arbitrary numpy array of your choosing!\n",
    "\n",
    "###################\n",
    "# Try it yourself !\n",
    "###################\n",
    "\n",
    "prog3 =LoopbackProgram(config)\n",
    "#prog3.acquire_decimated(soc, load_pulses=True, progress=True, debug=False)\n"
   ]
  },
  {
   "cell_type": "code",
   "execution_count": null,
   "metadata": {},
   "outputs": [],
   "source": []
  },
  {
   "cell_type": "code",
   "execution_count": 10,
   "metadata": {},
   "outputs": [
    {
     "name": "stdout",
     "output_type": "stream",
     "text": [
      "using qick program version\n",
      "3: pulses=[[7, 'arb', 0, array([61, 62, 63, ..., 63, 63, 62], dtype=int16), array([0, 0, 0, ..., 0, 0, 0], dtype=int16)]]\n",
      "3: log=[(0, 0, 3, 0, 'regwi', {'page': 3, 'ch': 0, 'oper': 0, 'ra': 16, 'rb': 0, 'rc': 0, 'imm': 69905067}), (2, 1, 3, 0, 'regwi', {'page': 3, 'ch': 0, 'oper': 0, 'ra': 17, 'rb': 0, 'rc': 0, 'imm': 0}), (4, 2, 3, 0, 'regwi', {'page': 3, 'ch': 0, 'oper': 0, 'ra': 19, 'rb': 0, 'rc': 0, 'imm': 5000}), (6, 3, 3, 0, 'regwi', {'page': 3, 'ch': 0, 'oper': 0, 'ra': 18, 'rb': 0, 'rc': 0, 'imm': 0}), (8, 4, 3, 0, 'regwi', {'page': 3, 'ch': 0, 'oper': 0, 'ra': 20, 'rb': 0, 'rc': 0, 'imm': 524438}), (10, 5, 0, 0, 'synci', {'page': 0, 'ch': 0, 'oper': 0, 'ra': 0, 'rb': 0, 'rc': 0, 'imm': 200}), (12, 6, 0, 0, 'regwi', {'page': 0, 'ch': 0, 'oper': 0, 'ra': 15, 'rb': 0, 'rc': 0, 'imm': 0}), (14, 7, 0, 0, 'regwi', {'page': 0, 'ch': 0, 'oper': 0, 'ra': 14, 'rb': 0, 'rc': 0, 'imm': 0}), (16, 8, 0, 0, 'regwi', {'page': 0, 'ch': 0, 'oper': 0, 'ra': 31, 'rb': 0, 'rc': 0, 'imm': 49152}), (18, 9, 0, 0, 'seti', {'page': 0, 'ch': 0, 'oper': 0, 'ra': 0, 'rb': 31, 'rc': 0, 'imm': 200}), (20, 10, 0, 0, 'regwi', {'page': 0, 'ch': 0, 'oper': 0, 'ra': 31, 'rb': 0, 'rc': 0, 'imm': 0}), (22, 11, 0, 0, 'seti', {'page': 0, 'ch': 0, 'oper': 0, 'ra': 0, 'rb': 31, 'rc': 0, 'imm': 210}), (24, 12, 3, 0, 'regwi', {'page': 3, 'ch': 0, 'oper': 0, 'ra': 18, 'rb': 0, 'rc': 0, 'imm': 0}), (26, 13, 3, 0, 'regwi', {'page': 3, 'ch': 0, 'oper': 0, 'ra': 20, 'rb': 0, 'rc': 0, 'imm': 524438}), (28, 14, 3, 0, 'regwi', {'page': 3, 'ch': 0, 'oper': 0, 'ra': 21, 'rb': 0, 'rc': 0, 'imm': 0}), (30, 15, 3, 7, 'set', {'page': 3, 'ch': 7, 'oper': 0, 'ra': 0, 'rb': 16, 'rc': 21, 'rd': 17, 're': 18, 'rf': 19, 'rg': 20, 'rh': 0}), (32, 16, 0, 0, 'synci', {'page': 0, 'ch': 0, 'oper': 0, 'ra': 0, 'rb': 0, 'rc': 0, 'imm': 150}), (34, 17, 0, 0, 'mathi', {'page': 0, 'ch': 0, 'oper': 8, 'ra': 15, 'rb': 15, 'rc': 0, 'imm': 1}), (36, 18, 0, 0, 'memwi', {'page': 0, 'ch': 0, 'oper': 0, 'ra': 15, 'rb': 0, 'rc': 0, 'imm': 1}), (38, 19, 0, None, 'loopnz', {'page': 0, 'oper': 8, 'ra': 14, 'rb': 14, 'rc': 0, 'addr': 8}), (40, 20, 0, None, 'end', {'page': 0, 'oper': 0, 'ra': 0, 'rb': 0, 'rc': 0, 'addr': 0}), (200, 21, 3, 7, 'set', {'page': 3, 'ch': 7, 'oper': 0, 'ra': 0, 'rb': 16, 'rc': 21, 'rd': 17, 're': 18, 'rf': 19, 'rg': 20, 'rh': 0}), (400, 21, 0, 0, 'seti', {'page': 0, 'ch': 0, 'oper': 0, 'ra': 0, 'rb': 31, 'rc': 0, 'imm': 200}), (410, 21, 0, 0, 'seti', {'page': 0, 'ch': 0, 'oper': 0, 'ra': 0, 'rb': 31, 'rc': 0, 'imm': 210})]\n",
      "3: mem changes=[(36, 18, 0, 1, 1)]\n",
      "3: reg state=[[0, 0, 3, 'A', 0, 0, 0, 0, 0, 0, 0, 0, 0, 0, 0, 0, 0, 0, 0, 0, 69905067, 0, 0, 0, 0, 0, 0, 0, 0, 0, 0, 0, 0, 0, 0, 0], [2, 1, 3, 'A', 0, 0, 0, 0, 0, 0, 0, 0, 0, 0, 0, 0, 0, 0, 0, 0, 69905067, 0, 0, 0, 0, 0, 0, 0, 0, 0, 0, 0, 0, 0, 0, 0], [4, 2, 3, 'A', 0, 0, 0, 0, 0, 0, 0, 0, 0, 0, 0, 0, 0, 0, 0, 0, 69905067, 0, 0, 5000, 0, 0, 0, 0, 0, 0, 0, 0, 0, 0, 0, 0], [6, 3, 3, 'A', 0, 0, 0, 0, 0, 0, 0, 0, 0, 0, 0, 0, 0, 0, 0, 0, 69905067, 0, 0, 5000, 0, 0, 0, 0, 0, 0, 0, 0, 0, 0, 0, 0], [8, 4, 3, 'A', 0, 0, 0, 0, 0, 0, 0, 0, 0, 0, 0, 0, 0, 0, 0, 0, 69905067, 0, 0, 5000, 524438, 0, 0, 0, 0, 0, 0, 0, 0, 0, 0, 0], [12, 6, 0, 'A', 0, 0, 0, 0, 0, 0, 0, 0, 0, 0, 0, 0, 0, 0, 0, 0, 0, 0, 0, 0, 0, 0, 0, 0, 0, 0, 0, 0, 0, 0, 0, 0], [14, 7, 0, 'A', 0, 0, 0, 0, 0, 0, 0, 0, 0, 0, 0, 0, 0, 0, 0, 0, 0, 0, 0, 0, 0, 0, 0, 0, 0, 0, 0, 0, 0, 0, 0, 0], [16, 8, 0, 'A', 0, 0, 0, 0, 0, 0, 0, 0, 0, 0, 0, 0, 0, 0, 0, 0, 0, 0, 0, 0, 0, 0, 0, 0, 0, 0, 0, 0, 0, 0, 0, 49152], [20, 10, 0, 'A', 0, 0, 0, 0, 0, 0, 0, 0, 0, 0, 0, 0, 0, 0, 0, 0, 0, 0, 0, 0, 0, 0, 0, 0, 0, 0, 0, 0, 0, 0, 0, 0], [24, 12, 3, 'A', 0, 0, 0, 0, 0, 0, 0, 0, 0, 0, 0, 0, 0, 0, 0, 0, 69905067, 0, 0, 5000, 524438, 0, 0, 0, 0, 0, 0, 0, 0, 0, 0, 0], [26, 13, 3, 'A', 0, 0, 0, 0, 0, 0, 0, 0, 0, 0, 0, 0, 0, 0, 0, 0, 69905067, 0, 0, 5000, 524438, 0, 0, 0, 0, 0, 0, 0, 0, 0, 0, 0], [28, 14, 3, 'A', 0, 0, 0, 0, 0, 0, 0, 0, 0, 0, 0, 0, 0, 0, 0, 0, 69905067, 0, 0, 5000, 524438, 0, 0, 0, 0, 0, 0, 0, 0, 0, 0, 0], [34, 17, 0, 'A', 0, 0, 0, 0, 0, 0, 0, 0, 0, 0, 0, 0, 0, 0, 0, 1, 0, 0, 0, 0, 0, 0, 0, 0, 0, 0, 0, 0, 0, 0, 0, 0]]\n",
      "2400\n"
     ]
    }
   ],
   "source": [
    "\n",
    "\n",
    "# print(prog3.asm())\n",
    "\n",
    "results = simulate(prog3)\n",
    "print(f'3: pulses={results[\"pulses\"]}')\n",
    "print(f'3: log={results[\"instruction_log\"]}')\n",
    "print(f'3: mem changes={results[\"mem_changes\"]}')\n",
    "print(f'3: reg state={results[\"reg_state\"]}')\n",
    "save_results(results, \"Loop3\")\n",
    "\n",
    "print(results['pulses'][0][3].size)\n"
   ]
  }
 ],
 "metadata": {
  "kernelspec": {
   "display_name": "Python 3 (ipykernel)",
   "language": "python",
   "name": "python3"
  },
  "language_info": {
   "codemirror_mode": {
    "name": "ipython",
    "version": 3
   },
   "file_extension": ".py",
   "mimetype": "text/x-python",
   "name": "python",
   "nbconvert_exporter": "python",
   "pygments_lexer": "ipython3",
   "version": "3.8.10"
  }
 },
 "nbformat": 4,
 "nbformat_minor": 4
}
