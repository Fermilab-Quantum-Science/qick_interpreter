{
 "cells": [
  {
   "cell_type": "markdown",
   "metadata": {},
   "source": [
    "# <center> Reading, math and writing demonstration\n",
    "\n",
    "### <center> In this demo you will use the tProc to do some math and/or bitwise operations on two variables that you will pass in through the <code> config </code> dictionary and take out with <code> single_read </code>."
   ]
  },
  {
   "cell_type": "code",
   "execution_count": 1,
   "metadata": {},
   "outputs": [
    {
     "name": "stdout",
     "output_type": "stream",
     "text": [
      "Populating the interactive namespace from numpy and matplotlib\n"
     ]
    }
   ],
   "source": [
    "# Import the QICK drivers and auxiliary libraries\n",
    "from qick import *\n",
    "from qick.qick_asm import *\n",
    "from qick.averager_program import *\n",
    "from qick.helpers import gauss\n",
    "import time\n",
    "%pylab inline"
   ]
  },
  {
   "cell_type": "code",
   "execution_count": 2,
   "metadata": {},
   "outputs": [],
   "source": [
    "# Load bitstream with custom overlay\n",
    "soc = QickSoc()\n",
    "# Set the loopback DAC channel to be in 1st Nyquist zone mode\n",
    "soc.set_nyquist(ch=7,nqz=1); "
   ]
  },
  {
   "cell_type": "markdown",
   "metadata": {},
   "source": [
    "### Hardware Configuration\n",
    "\n",
    "tProc channel 7   : DAC 229 CH3  <-> Readout channel 0 : ADC 224 CH0"
   ]
  },
  {
   "cell_type": "code",
   "execution_count": 2,
   "metadata": {},
   "outputs": [],
   "source": [
    "class LoopbackProgram(AveragerProgram):\n",
    "    def __init__(self,cfg):\n",
    "        AveragerProgram.__init__(self,cfg)\n",
    "\n",
    "    def initialize(self):\n",
    "        cfg=self.cfg   \n",
    "\n",
    "        # Move value of A into tProc register\n",
    "        self.regwi(0,1,self.cfg[\"A\"])\n",
    "\n",
    "        self.synci(200)  # give processor some time to configure pulses\n",
    "    \n",
    "    def body(self):\n",
    "        # Do math: add value of B to the register value\n",
    "        self.mathi(0, 1, 1, '+', self.cfg[\"B\"])\n",
    "        \n",
    "        # Write the result to address 123\n",
    "        self.memwi(0,1,123)"
   ]
  },
  {
   "cell_type": "markdown",
   "metadata": {},
   "source": [
    "### Here we will add the value of  <code> A </code> to the value of <code> B </code> using the tProc. We write the result to tProc memory address 123, and then read out that address value at the end of the program."
   ]
  },
  {
   "cell_type": "code",
   "execution_count": 3,
   "metadata": {},
   "outputs": [],
   "source": [
    "config={\"reps\": 1, # fixed\n",
    "        \"A\": 100,\n",
    "        \"B\": -50\n",
    "       }\n",
    "\n",
    "prog =LoopbackProgram(config)\n",
    "asm_file = open(\"math.asm\",\"w\")\n",
    "asm_file.write(prog.asm())\n",
    "asm_file.close()\n",
    "#soc.tproc.load_qick_program(prog)\n",
    "# Start tProc.\n",
    "#soc.tproc.stop()\n",
    "#soc.tproc.start()\n",
    "#time.sleep(0.1)\n",
    "#result = soc.tproc.single_read(addr=123)\n",
    "#print(\"Result = \", result)"
   ]
  },
  {
   "cell_type": "code",
   "execution_count": 4,
   "metadata": {},
   "outputs": [
    {
     "data": {
      "text/plain": [
       "'\\n// Program\\n\\n        regwi 0, $1, 100;\\n        synci 200;\\n        regwi 0, $15, 0;\\n        regwi 0, $14, 0;\\nLOOP_J: mathi 0, $1, $1, +, -50;\\n        memwi 0, $1, 123;\\n        mathi 0, $15, $15, +, 1;\\n        memwi 0, $15, 1;\\n        loopnz 0, $14, @LOOP_J;\\n        end ;'"
      ]
     },
     "execution_count": 4,
     "metadata": {},
     "output_type": "execute_result"
    }
   ],
   "source": [
    "prog.asm()"
   ]
  },
  {
   "cell_type": "code",
   "execution_count": null,
   "metadata": {},
   "outputs": [],
   "source": []
  }
 ],
 "metadata": {
  "kernelspec": {
   "display_name": "Python 3 (ipykernel)",
   "language": "python",
   "name": "python3"
  },
  "language_info": {
   "codemirror_mode": {
    "name": "ipython",
    "version": 3
   },
   "file_extension": ".py",
   "mimetype": "text/x-python",
   "name": "python",
   "nbconvert_exporter": "python",
   "pygments_lexer": "ipython3",
   "version": "3.7.11"
  }
 },
 "nbformat": 4,
 "nbformat_minor": 4
}
